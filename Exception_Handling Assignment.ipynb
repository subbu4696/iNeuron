{
 "cells": [
  {
   "cell_type": "markdown",
   "metadata": {},
   "source": [
    "## Question 1"
   ]
  },
  {
   "cell_type": "code",
   "execution_count": 2,
   "metadata": {},
   "outputs": [],
   "source": [
    "def divfun(a,b):\n",
    "    try:\n",
    "        div= (a/b)\n",
    "    except ZeroDivisionError as err:\n",
    "        print('exception caused due to {}'.format(err))\n",
    "    else:\n",
    "        return div"
   ]
  },
  {
   "cell_type": "code",
   "execution_count": 3,
   "metadata": {},
   "outputs": [
    {
     "name": "stdout",
     "output_type": "stream",
     "text": [
      "exception caused due to division by zero\n"
     ]
    }
   ],
   "source": [
    "divfun(5,0)"
   ]
  },
  {
   "cell_type": "markdown",
   "metadata": {},
   "source": [
    "## Q2"
   ]
  },
  {
   "cell_type": "code",
   "execution_count": 4,
   "metadata": {},
   "outputs": [],
   "source": [
    "Subjects = ['Americans','Indians']\n",
    "verbs = ['play','watch']\n",
    "objects = ['Baseball','cricket']"
   ]
  },
  {
   "cell_type": "code",
   "execution_count": 5,
   "metadata": {},
   "outputs": [
    {
     "name": "stdout",
     "output_type": "stream",
     "text": [
      "Americans play Baseball.\n",
      "Americans play cricket.\n",
      "Americans watch Baseball.\n",
      "Americans watch cricket.\n",
      "Indians play Baseball.\n",
      "Indians play cricket.\n",
      "Indians watch Baseball.\n",
      "Indians watch cricket.\n"
     ]
    }
   ],
   "source": [
    "x= [' '.join([a , y ,x]) for a in Subjects  for y in verbs for x in objects]\n",
    "for each in x:\n",
    "    print (each+'.')"
   ]
  },
  {
   "cell_type": "code",
   "execution_count": null,
   "metadata": {},
   "outputs": [],
   "source": []
  }
 ],
 "metadata": {
  "kernelspec": {
   "display_name": "Python 3",
   "language": "python",
   "name": "python3"
  },
  "language_info": {
   "codemirror_mode": {
    "name": "ipython",
    "version": 3
   },
   "file_extension": ".py",
   "mimetype": "text/x-python",
   "name": "python",
   "nbconvert_exporter": "python",
   "pygments_lexer": "ipython3",
   "version": "3.8.3"
  }
 },
 "nbformat": 4,
 "nbformat_minor": 4
}
